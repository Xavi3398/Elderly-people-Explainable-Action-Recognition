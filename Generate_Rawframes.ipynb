{
 "cells": [
  {
   "cell_type": "markdown",
   "id": "d5f16cce-8f75-42b5-880f-cd6459b9aeed",
   "metadata": {},
   "source": [
    "# Generate Rawframes"
   ]
  },
  {
   "cell_type": "code",
   "execution_count": 18,
   "id": "c667763f-5863-437f-9152-ebc31f886966",
   "metadata": {},
   "outputs": [],
   "source": [
    "import os\n",
    "import shutil\n",
    "import numpy as np\n",
    "import cv2\n",
    "\n",
    "DATASET_NAME = 'EtriActivity3D'\n",
    "SOURCE_FOLDER = 'F:\\\\ETRI-Activity3D\\\\RGB Videos\\\\EtriActivity3D'\n",
    "DEST_FOLDER = 'F:\\\\ETRI-Activity3D\\\\RGB Videos\\\\EtryActivity3D-Rawframes'\n",
    "N_CLASSES = 55"
   ]
  },
  {
   "cell_type": "code",
   "execution_count": 25,
   "id": "1960e67c-c36f-40e1-9297-f1b904a37359",
   "metadata": {},
   "outputs": [],
   "source": [
    "def gen_frames(split):\n",
    "    \n",
    "    dest_split_dir = os.path.join(DEST_FOLDER, split)\n",
    "    os.mkdir(dest_split_dir)\n",
    "\n",
    "    source_split_dir = os.path.join(SOURCE_FOLDER, split)\n",
    "    \n",
    "    # f_path_source = os.path.join(SOURCE_FOLDER, DATASET_NAME + '_' + split + '_video.txt')\n",
    "    f_path_dest = os.path.join(DEST_FOLDER, DATASET_NAME + '_' + split + '_rawframe.txt')\n",
    "    \n",
    "    with open(f_path_dest, 'w') as f_out:\n",
    "        \n",
    "        # For each video in split folder\n",
    "        for video_name in os.listdir(source_split_dir):\n",
    "            \n",
    "            # Directory for frames of video\n",
    "            video_name_ne = os.path.splitext(video_name)[0]\n",
    "            video_dir_path = os.path.join(dest_split_dir, video_name_ne)\n",
    "            os.mkdir(video_dir_path)\n",
    "            \n",
    "            # Load video\n",
    "            video_source_full_name = os.path.join(source_split_dir, video_name)\n",
    "            vidcap = cv2.VideoCapture(video_source_full_name)\n",
    "            count = 0\n",
    "\n",
    "            while True:\n",
    "                \n",
    "                # Read frame\n",
    "                success, image = vidcap.read()\n",
    "                \n",
    "                # End video\n",
    "                if not success:\n",
    "                    break\n",
    "                \n",
    "                # Save and count frame\n",
    "                frame_name = video_name + '_frame%d.jpg' % count\n",
    "                frame_full_name = os.path.join(video_dir_path, frame_name)\n",
    "                cv2.imwrite(frame_full_name, image)     # save frame as JPEG file      \n",
    "                count += 1\n",
    "            \n",
    "            # Write video to file list\n",
    "            label = int(video_name.partition(\"_\")[0][1:]) - 1\n",
    "            f_out.write(video_name_ne + ' '  + str(count) + ' ' + str(label) + '\\n')"
   ]
  }
 ],
 "metadata": {
  "kernelspec": {
   "display_name": "Python 3 (ipykernel)",
   "language": "python",
   "name": "python3"
  },
  "language_info": {
   "codemirror_mode": {
    "name": "ipython",
    "version": 3
   },
   "file_extension": ".py",
   "mimetype": "text/x-python",
   "name": "python",
   "nbconvert_exporter": "python",
   "pygments_lexer": "ipython3",
   "version": "3.7.13"
  }
 },
 "nbformat": 4,
 "nbformat_minor": 5
}

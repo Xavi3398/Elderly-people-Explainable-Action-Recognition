{
 "cells": [
  {
   "cell_type": "markdown",
   "id": "322626ae-5aed-495a-832b-78ebd415f068",
   "metadata": {},
   "source": [
    "# 5-fold Cross Validation Results"
   ]
  },
  {
   "cell_type": "code",
   "execution_count": 1,
   "id": "0047f5a5-2961-492e-b454-72d2db15718e",
   "metadata": {},
   "outputs": [],
   "source": [
    "%load_ext autoreload\n",
    "%autoreload 2"
   ]
  },
  {
   "cell_type": "code",
   "execution_count": 2,
   "id": "6adfefbe-191f-4e96-a821-81b07d5860e0",
   "metadata": {},
   "outputs": [],
   "source": [
    "import torch, torchvision\n",
    "import mmcv\n",
    "from mmcv import Config\n",
    "from mmcv.ops import get_compiling_cuda_version, get_compiler_version\n",
    "import mmaction\n",
    "from mmaction.apis import inference_recognizer, init_recognizer\n",
    "from mmaction.datasets import build_dataset\n",
    "from matplotlib import pyplot as plt\n",
    "import json\n",
    "\n",
    "import numpy as np\n",
    "import decord as de\n",
    "import cv2"
   ]
  },
  {
   "cell_type": "code",
   "execution_count": 28,
   "id": "7669635f-21ad-4512-956b-2798bad71c5f",
   "metadata": {},
   "outputs": [],
   "source": [
    "dataset_dir = 'F:/ETRI-Activity3D/RGB Videos/EtriActivity3D'\n",
    "dataset_name = 'EtriActivity3D'\n",
    "cfg = mmcv.Config.fromfile('mmaction2/configs/recognition/timesformer/timesformer_divST_8x32x1 - modified pipeline.py')\n",
    "labels = [x.strip() for x in open(\"label_map_EtriActivity3D.txt\").readlines()]\n",
    "metrics = ['top_k_accuracy', 'mean_class_accuracy']\n",
    "kwargs = {} # Eval options\n",
    "results = [[{}, {}] for _ in range(5)]\n",
    "iter_batch_size = 5"
   ]
  },
  {
   "cell_type": "code",
   "execution_count": 26,
   "id": "5c5cfa95-975d-4d10-953b-31da5bb3f235",
   "metadata": {},
   "outputs": [],
   "source": [
    "def get_kwargs(cfg):\n",
    "    eval_kwargs = cfg.get('evaluation', {}).copy()\n",
    "    # hard-code way to remove EvalHook args\n",
    "    for key in [\n",
    "            'interval', 'tmpdir', 'start', 'gpu_collect', 'save_best', 'rule',\n",
    "            'by_epoch'\n",
    "    ]:\n",
    "        eval_kwargs.pop(key, None)\n",
    "    return eval_kwargs\n",
    "\n",
    "def print_metric(cfg, metric, outputs):\n",
    "    eval_kwargs = get_kwargs(cfg)\n",
    "    eval_kwargs.update(dict(metrics=metric, **kwargs))\n",
    "    return dataset.evaluate(outputs, **eval_kwargs)"
   ]
  },
  {
   "cell_type": "markdown",
   "id": "15a58d98-7840-40cd-a59b-4dda7e00142a",
   "metadata": {},
   "source": [
    "## CV1, CV2"
   ]
  },
  {
   "cell_type": "markdown",
   "id": "06b33614-e2d0-442e-9ac0-b9d0943af356",
   "metadata": {},
   "source": [
    "### 1st epoch"
   ]
  },
  {
   "cell_type": "code",
   "execution_count": 29,
   "id": "8f243ba6-4ee0-4780-8aea-e74f535108ed",
   "metadata": {},
   "outputs": [
    {
     "name": "stdout",
     "output_type": "stream",
     "text": [
      "\n",
      "Evaluating top_k_accuracy ...\n",
      "\n",
      "top1_acc\t0.8636\n",
      "top5_acc\t0.9899\n",
      "\n",
      "Evaluating mean_class_accuracy ...\n",
      "\n",
      "mean_acc\t0.8589\n",
      "\n",
      "Evaluating top_k_accuracy ...\n",
      "\n",
      "top1_acc\t0.8728\n",
      "top5_acc\t0.9892\n",
      "\n",
      "Evaluating mean_class_accuracy ...\n",
      "\n",
      "mean_acc\t0.8703\n"
     ]
    }
   ],
   "source": [
    "for k in [1, 2]:\n",
    "    cfg.ann_file_val =  dataset_dir + '/' + dataset_name + '_test_k' + str(k) + '_video.txt'\n",
    "    cfg.data.val.type = 'VideoDataset'\n",
    "    cfg.data.val.ann_file = dataset_dir + '/' + dataset_name + '_test_k' + str(k) + '_video.txt'\n",
    "    cfg.data.val.data_prefix = dataset_dir + '/all_videos/'\n",
    "    cfg.ann_file_test =  dataset_dir + '/' + dataset_name + '_test_k' + str(k) + '_video.txt'\n",
    "    cfg.data.test.type = 'VideoDataset'\n",
    "    cfg.data.test.ann_file = dataset_dir + '/' + dataset_name + '_test_k' + str(k) + '_video.txt'\n",
    "    cfg.data.test.data_prefix = dataset_dir + '/all_videos/'\n",
    "\n",
    "    # results\n",
    "    results_file = 'training_logs/4t entrenament/K' + str(k) + '/results_CV' + str(k) + '_epoch1.json'\n",
    "    outputs = mmcv.load(results_file)\n",
    "\n",
    "    # gt\n",
    "    dataset = build_dataset(cfg.data.test)\n",
    "\n",
    "    res = {}\n",
    "    for metric in metrics:\n",
    "        res.update(print_metric(cfg, metric, outputs))\n",
    "\n",
    "    results[k-1][0] = res"
   ]
  },
  {
   "cell_type": "markdown",
   "id": "b81aa61a-311b-47ce-a4a8-34e1895e1b0a",
   "metadata": {},
   "source": [
    "### 2nd epoch"
   ]
  },
  {
   "cell_type": "code",
   "execution_count": 30,
   "id": "1edd05d4-e932-4cf9-bdcb-42e69d960712",
   "metadata": {},
   "outputs": [],
   "source": [
    "for k in [1, 2]:\n",
    "    logs_file = \"training_logs\\\\4t entrenament\\\\K\" + str(k) + \"\\\\None.log.json\"\n",
    "\n",
    "    res = []\n",
    "    with open(logs_file) as f:\n",
    "        for line in f.readlines():\n",
    "            res.append(json.loads(line))\n",
    "    res = [line for line in res if 'mode' in line]\n",
    "    res_val = [line for line in res if line['mode'] == \"val\"]\n",
    "    results[k-1][1]['top1_acc'] = res_val[0]['top1_acc']\n",
    "    results[k-1][1]['top5_acc'] = res_val[0]['top5_acc']\n",
    "    results[k-1][1]['mean_class_accuracy'] = res_val[0]['mean_class_accuracy']"
   ]
  },
  {
   "cell_type": "markdown",
   "id": "d81e3362-d165-4d89-953e-ef98ba72f0c6",
   "metadata": {},
   "source": [
    "## CV3, CV4 and CV5"
   ]
  },
  {
   "cell_type": "code",
   "execution_count": 31,
   "id": "95474b39-1775-4eee-9676-7f1953163223",
   "metadata": {},
   "outputs": [],
   "source": [
    "for k in [3, 4, 5]:\n",
    "    logs_file = \"training_logs\\\\4t entrenament\\\\K\" + str(k) + \"\\\\None.log.json\"\n",
    "\n",
    "    res = []\n",
    "    with open(logs_file) as f:\n",
    "        for line in f.readlines():\n",
    "            res.append(json.loads(line))\n",
    "    res = [line for line in res if 'mode' in line]\n",
    "    res_val = [line for line in res if line['mode'] == \"val\"]\n",
    "    \n",
    "    # 1st epoch\n",
    "    results[k-1][0]['top1_acc'] = res_val[0]['top1_acc']\n",
    "    results[k-1][0]['top5_acc'] = res_val[0]['top5_acc']\n",
    "    results[k-1][0]['mean_class_accuracy'] = res_val[0]['mean_class_accuracy']\n",
    "    \n",
    "    # 2nd epoch\n",
    "    results[k-1][1]['top1_acc'] = res_val[1]['top1_acc']\n",
    "    results[k-1][1]['top5_acc'] = res_val[1]['top5_acc']\n",
    "    results[k-1][1]['mean_class_accuracy'] = res_val[1]['mean_class_accuracy']"
   ]
  },
  {
   "cell_type": "markdown",
   "id": "52a4ec3a-aaf8-4757-8bb3-cac6cb4191e9",
   "metadata": {},
   "source": [
    "## Results"
   ]
  },
  {
   "cell_type": "code",
   "execution_count": 32,
   "id": "3cd09ae4-702d-4e4d-bd58-9658a78cbb27",
   "metadata": {},
   "outputs": [
    {
     "data": {
      "text/plain": [
       "[[{'top1_acc': 0.8635677499556029,\n",
       "   'top5_acc': 0.9899218611259102,\n",
       "   'mean_class_accuracy': 0.85887991728152},\n",
       "  {'top1_acc': 0.90468, 'top5_acc': 0.99609, 'mean_class_accuracy': 0.90307}],\n",
       " [{'top1_acc': 0.8728467412537737,\n",
       "   'top5_acc': 0.9891671106375421,\n",
       "   'mean_class_accuracy': 0.8702529914396698},\n",
       "  {'top1_acc': 0.91343, 'top5_acc': 0.99547, 'mean_class_accuracy': 0.91209}],\n",
       " [{'top1_acc': 0.86823, 'top5_acc': 0.99017, 'mean_class_accuracy': 0.85713},\n",
       "  {'top1_acc': 0.90708, 'top5_acc': 0.99578, 'mean_class_accuracy': 0.90596}],\n",
       " [{'top1_acc': 0.88284, 'top5_acc': 0.99245, 'mean_class_accuracy': 0.87858},\n",
       "  {'top1_acc': 0.89909, 'top5_acc': 0.99574, 'mean_class_accuracy': 0.89774}],\n",
       " [{'top1_acc': 0.87627, 'top5_acc': 0.99041, 'mean_class_accuracy': 0.87577},\n",
       "  {'top1_acc': 0.90601, 'top5_acc': 0.99529, 'mean_class_accuracy': 0.90047}]]"
      ]
     },
     "execution_count": 32,
     "metadata": {},
     "output_type": "execute_result"
    }
   ],
   "source": [
    "results"
   ]
  },
  {
   "cell_type": "code",
   "execution_count": 36,
   "id": "bef6d460-d49d-4f0b-aaa2-31f52b9f3e60",
   "metadata": {},
   "outputs": [
    {
     "data": {
      "image/png": "[encoded data removed]",
      "text/plain": [
       "<Figure size 720x360 with 1 Axes>"
      ]
     },
     "metadata": {
      "needs_background": "light"
     },
     "output_type": "display_data"
    }
   ],
   "source": [
    "n_epochs = 2\n",
    "for results_val in results:\n",
    "    plt.rcParams['figure.figsize'] = [10, 5]\n",
    "    plt.rcParams['font.size'] = 16\n",
    "    plt.plot([0] + [line['top1_acc'] for line in results_val], color='blue')\n",
    "    plt.plot([0] + [line['top5_acc'] for line in results_val], color='green')\n",
    "    plt.plot([0] + [line['mean_class_accuracy'] for line in results_val], color='red')\n",
    "plt.title(\"Validation after each epoch\")\n",
    "plt.xlabel(\"Epoch\")\n",
    "plt.ylabel(\"Value\")\n",
    "plt.xticks(range(n_epochs + 1), [str(v) for v in range(n_epochs + 1)])\n",
    "# plt.legend(loc=\"lower right\")\n",
    "plt.show()"
   ]
  },
  {
   "cell_type": "code",
   "execution_count": 43,
   "id": "e9afb283-4487-4de3-ad7a-b48aff9e7c06",
   "metadata": {},
   "outputs": [
    {
     "name": "stdout",
     "output_type": "stream",
     "text": [
      "0.8727508982418752 0.906058\n"
     ]
    }
   ],
   "source": [
    "print(np.mean([r[0]['top1_acc'] for r in results]), np.mean([r[1]['top1_acc'] for r in results]))"
   ]
  },
  {
   "cell_type": "code",
   "execution_count": 44,
   "id": "2f6f5ed7-625d-4dc2-97ba-ff4b7818c802",
   "metadata": {},
   "outputs": [
    {
     "name": "stdout",
     "output_type": "stream",
     "text": [
      "0.9904237943526905 0.995674\n"
     ]
    }
   ],
   "source": [
    "print(np.mean([r[0]['top5_acc'] for r in results]), np.mean([r[1]['top5_acc'] for r in results]))"
   ]
  },
  {
   "cell_type": "code",
   "execution_count": 45,
   "id": "14aa976f-8ab4-446d-9297-96f196b5af29",
   "metadata": {},
   "outputs": [
    {
     "name": "stdout",
     "output_type": "stream",
     "text": [
      "0.8681225817442378 0.9038660000000001\n"
     ]
    }
   ],
   "source": [
    "print(np.mean([r[0]['mean_class_accuracy'] for r in results]), np.mean([r[1]['mean_class_accuracy'] for r in results]))"
   ]
  }
 ],
 "metadata": {
  "kernelspec": {
   "display_name": "Python 3 (ipykernel)",
   "language": "python",
   "name": "python3"
  },
  "language_info": {
   "codemirror_mode": {
    "name": "ipython",
    "version": 3
   },
   "file_extension": ".py",
   "mimetype": "text/x-python",
   "name": "python",
   "nbconvert_exporter": "python",
   "pygments_lexer": "ipython3",
   "version": "3.7.13"
  }
 },
 "nbformat": 4,
 "nbformat_minor": 5
}
